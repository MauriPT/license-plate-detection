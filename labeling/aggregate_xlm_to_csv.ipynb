{
 "cells": [
  {
   "cell_type": "code",
   "execution_count": 1,
   "metadata": {},
   "outputs": [],
   "source": [
    "# import libraries\n",
    "\n",
    "import pandas as pd\n",
    "import xml.etree.ElementTree as xet"
   ]
  },
  {
   "cell_type": "code",
   "execution_count": 2,
   "metadata": {},
   "outputs": [],
   "source": [
    "from glob import glob"
   ]
  },
  {
   "cell_type": "code",
   "execution_count": 3,
   "metadata": {},
   "outputs": [],
   "source": [
    "files_path = glob('./annotations/*.xml')"
   ]
  },
  {
   "cell_type": "code",
   "execution_count": 5,
   "metadata": {},
   "outputs": [],
   "source": [
    "def get_info_from_xml(filepath):\n",
    "    info = xet.parse(filepath)\n",
    "    root = info.getroot()\n",
    "    object = root.find('object')\n",
    "    labels = object.find('bndbox')\n",
    "    \n",
    "    xmin = int(labels.find('xmin').text)\n",
    "    xmax = int(labels.find('xmax').text)\n",
    "    ymin = int(labels.find('ymin').text)\n",
    "    ymax = int(labels.find('ymax').text)\n",
    "    \n",
    "    return xmin, xmax, ymin, ymax"
   ]
  },
  {
   "cell_type": "code",
   "execution_count": 6,
   "metadata": {},
   "outputs": [],
   "source": [
    "# initialize a dictionary for labels\n",
    "\n",
    "labels_dict = dict(filepath = [], xmin = [], xmax = [], ymin = [], ymax = [])\n",
    "    "
   ]
  },
  {
   "cell_type": "code",
   "execution_count": 8,
   "metadata": {},
   "outputs": [],
   "source": [
    "for file in files_path:\n",
    "\n",
    "    xmin, xmax, ymin, ymax = get_info_from_xml(file)\n",
    "    \n",
    "    labels_dict['filepath'].append(file)\n",
    "    labels_dict['xmin'].append(xmin)\n",
    "    labels_dict['xmax'].append(xmax)\n",
    "    labels_dict['ymin'].append(ymin)\n",
    "    labels_dict['ymax'].append(ymax)"
   ]
  },
  {
   "cell_type": "code",
   "execution_count": 10,
   "metadata": {},
   "outputs": [],
   "source": [
    "# turning dict to data frame\n",
    "df = pd.DataFrame(labels_dict)"
   ]
  },
  {
   "cell_type": "code",
   "execution_count": 11,
   "metadata": {},
   "outputs": [
    {
     "data": {
      "text/html": [
       "<div>\n",
       "<style scoped>\n",
       "    .dataframe tbody tr th:only-of-type {\n",
       "        vertical-align: middle;\n",
       "    }\n",
       "\n",
       "    .dataframe tbody tr th {\n",
       "        vertical-align: top;\n",
       "    }\n",
       "\n",
       "    .dataframe thead th {\n",
       "        text-align: right;\n",
       "    }\n",
       "</style>\n",
       "<table border=\"1\" class=\"dataframe\">\n",
       "  <thead>\n",
       "    <tr style=\"text-align: right;\">\n",
       "      <th></th>\n",
       "      <th>filepath</th>\n",
       "      <th>xmin</th>\n",
       "      <th>xmax</th>\n",
       "      <th>ymin</th>\n",
       "      <th>ymax</th>\n",
       "    </tr>\n",
       "  </thead>\n",
       "  <tbody>\n",
       "    <tr>\n",
       "      <th>0</th>\n",
       "      <td>./annotations/Cars213.xml</td>\n",
       "      <td>150</td>\n",
       "      <td>233</td>\n",
       "      <td>160</td>\n",
       "      <td>194</td>\n",
       "    </tr>\n",
       "    <tr>\n",
       "      <th>1</th>\n",
       "      <td>./annotations/Cars207.xml</td>\n",
       "      <td>254</td>\n",
       "      <td>372</td>\n",
       "      <td>229</td>\n",
       "      <td>264</td>\n",
       "    </tr>\n",
       "    <tr>\n",
       "      <th>2</th>\n",
       "      <td>./annotations/Cars398.xml</td>\n",
       "      <td>72</td>\n",
       "      <td>196</td>\n",
       "      <td>139</td>\n",
       "      <td>222</td>\n",
       "    </tr>\n",
       "    <tr>\n",
       "      <th>3</th>\n",
       "      <td>./annotations/Cars367.xml</td>\n",
       "      <td>224</td>\n",
       "      <td>382</td>\n",
       "      <td>161</td>\n",
       "      <td>222</td>\n",
       "    </tr>\n",
       "    <tr>\n",
       "      <th>4</th>\n",
       "      <td>./annotations/Cars401.xml</td>\n",
       "      <td>158</td>\n",
       "      <td>238</td>\n",
       "      <td>223</td>\n",
       "      <td>240</td>\n",
       "    </tr>\n",
       "    <tr>\n",
       "      <th>...</th>\n",
       "      <td>...</td>\n",
       "      <td>...</td>\n",
       "      <td>...</td>\n",
       "      <td>...</td>\n",
       "      <td>...</td>\n",
       "    </tr>\n",
       "    <tr>\n",
       "      <th>428</th>\n",
       "      <td>./annotations/Cars418.xml</td>\n",
       "      <td>99</td>\n",
       "      <td>303</td>\n",
       "      <td>70</td>\n",
       "      <td>155</td>\n",
       "    </tr>\n",
       "    <tr>\n",
       "      <th>429</th>\n",
       "      <td>./annotations/Cars395.xml</td>\n",
       "      <td>241</td>\n",
       "      <td>288</td>\n",
       "      <td>182</td>\n",
       "      <td>205</td>\n",
       "    </tr>\n",
       "    <tr>\n",
       "      <th>430</th>\n",
       "      <td>./annotations/Cars381.xml</td>\n",
       "      <td>65</td>\n",
       "      <td>147</td>\n",
       "      <td>131</td>\n",
       "      <td>155</td>\n",
       "    </tr>\n",
       "    <tr>\n",
       "      <th>431</th>\n",
       "      <td>./annotations/Cars222.xml</td>\n",
       "      <td>178</td>\n",
       "      <td>235</td>\n",
       "      <td>158</td>\n",
       "      <td>170</td>\n",
       "    </tr>\n",
       "    <tr>\n",
       "      <th>432</th>\n",
       "      <td>./annotations/Cars236.xml</td>\n",
       "      <td>223</td>\n",
       "      <td>250</td>\n",
       "      <td>106</td>\n",
       "      <td>119</td>\n",
       "    </tr>\n",
       "  </tbody>\n",
       "</table>\n",
       "<p>433 rows × 5 columns</p>\n",
       "</div>"
      ],
      "text/plain": [
       "                      filepath  xmin  xmax  ymin  ymax\n",
       "0    ./annotations/Cars213.xml   150   233   160   194\n",
       "1    ./annotations/Cars207.xml   254   372   229   264\n",
       "2    ./annotations/Cars398.xml    72   196   139   222\n",
       "3    ./annotations/Cars367.xml   224   382   161   222\n",
       "4    ./annotations/Cars401.xml   158   238   223   240\n",
       "..                         ...   ...   ...   ...   ...\n",
       "428  ./annotations/Cars418.xml    99   303    70   155\n",
       "429  ./annotations/Cars395.xml   241   288   182   205\n",
       "430  ./annotations/Cars381.xml    65   147   131   155\n",
       "431  ./annotations/Cars222.xml   178   235   158   170\n",
       "432  ./annotations/Cars236.xml   223   250   106   119\n",
       "\n",
       "[433 rows x 5 columns]"
      ]
     },
     "execution_count": 11,
     "metadata": {},
     "output_type": "execute_result"
    }
   ],
   "source": [
    "df"
   ]
  },
  {
   "cell_type": "code",
   "execution_count": 12,
   "metadata": {},
   "outputs": [],
   "source": [
    "df = df.sort_values('filepath')"
   ]
  },
  {
   "cell_type": "code",
   "execution_count": 13,
   "metadata": {},
   "outputs": [],
   "source": [
    "# aggregate labels in a csv file\n",
    "df.to_csv('image_labels.csv', index=False)"
   ]
  },
  {
   "cell_type": "code",
   "execution_count": null,
   "metadata": {},
   "outputs": [],
   "source": [
    "    "
   ]
  }
 ],
 "metadata": {
  "kernelspec": {
   "display_name": "env",
   "language": "python",
   "name": "python3"
  },
  "language_info": {
   "codemirror_mode": {
    "name": "ipython",
    "version": 3
   },
   "file_extension": ".py",
   "mimetype": "text/x-python",
   "name": "python",
   "nbconvert_exporter": "python",
   "pygments_lexer": "ipython3",
   "version": "3.12.4"
  }
 },
 "nbformat": 4,
 "nbformat_minor": 2
}
