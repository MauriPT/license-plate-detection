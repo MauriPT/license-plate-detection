{
 "cells": [
  {
   "cell_type": "code",
   "execution_count": 2,
   "metadata": {},
   "outputs": [],
   "source": [
    "# import libraries\n",
    "\n",
    "import pandas as pd\n",
    "import xml.etree.ElementTree as xet"
   ]
  },
  {
   "cell_type": "code",
   "execution_count": 3,
   "metadata": {},
   "outputs": [],
   "source": [
    "from glob import glob"
   ]
  },
  {
   "cell_type": "code",
   "execution_count": 4,
   "metadata": {},
   "outputs": [],
   "source": [
    "files_path = glob('./images/*.xml')"
   ]
  },
  {
   "cell_type": "code",
   "execution_count": 5,
   "metadata": {},
   "outputs": [],
   "source": [
    "def get_info_from_xml(filepath):\n",
    "    info = xet.parse(filepath)\n",
    "    root = info.getroot()\n",
    "    object = root.find('object')\n",
    "    labels = object.find('bndbox')\n",
    "    \n",
    "    xmin = int(labels.find('xmin').text)\n",
    "    xmax = int(labels.find('xmax').text)\n",
    "    ymin = int(labels.find('ymin').text)\n",
    "    ymax = int(labels.find('ymax').text)\n",
    "    \n",
    "    return xmin, xmax, ymin, ymax"
   ]
  },
  {
   "cell_type": "code",
   "execution_count": 6,
   "metadata": {},
   "outputs": [],
   "source": [
    "# initialize a dictionary for labels\n",
    "\n",
    "labels_dict = dict(filepath = [], xmin = [], xmax = [], ymin = [], ymax = [])\n",
    "    "
   ]
  },
  {
   "cell_type": "code",
   "execution_count": 7,
   "metadata": {},
   "outputs": [],
   "source": [
    "for file in files_path:\n",
    "\n",
    "    xmin, xmax, ymin, ymax = get_info_from_xml(file)\n",
    "    \n",
    "    labels_dict['filepath'].append(file)\n",
    "    labels_dict['xmin'].append(xmin)\n",
    "    labels_dict['xmax'].append(xmax)\n",
    "    labels_dict['ymin'].append(ymin)\n",
    "    labels_dict['ymax'].append(ymax)"
   ]
  },
  {
   "cell_type": "code",
   "execution_count": 8,
   "metadata": {},
   "outputs": [],
   "source": [
    "# turning dict to data frame\n",
    "df = pd.DataFrame(labels_dict)"
   ]
  },
  {
   "cell_type": "code",
   "execution_count": 9,
   "metadata": {},
   "outputs": [
    {
     "data": {
      "text/html": [
       "<div>\n",
       "<style scoped>\n",
       "    .dataframe tbody tr th:only-of-type {\n",
       "        vertical-align: middle;\n",
       "    }\n",
       "\n",
       "    .dataframe tbody tr th {\n",
       "        vertical-align: top;\n",
       "    }\n",
       "\n",
       "    .dataframe thead th {\n",
       "        text-align: right;\n",
       "    }\n",
       "</style>\n",
       "<table border=\"1\" class=\"dataframe\">\n",
       "  <thead>\n",
       "    <tr style=\"text-align: right;\">\n",
       "      <th></th>\n",
       "      <th>filepath</th>\n",
       "      <th>xmin</th>\n",
       "      <th>xmax</th>\n",
       "      <th>ymin</th>\n",
       "      <th>ymax</th>\n",
       "    </tr>\n",
       "  </thead>\n",
       "  <tbody>\n",
       "    <tr>\n",
       "      <th>0</th>\n",
       "      <td>./images/N107.xml</td>\n",
       "      <td>207</td>\n",
       "      <td>356</td>\n",
       "      <td>174</td>\n",
       "      <td>287</td>\n",
       "    </tr>\n",
       "    <tr>\n",
       "      <th>1</th>\n",
       "      <td>./images/N113.xml</td>\n",
       "      <td>39</td>\n",
       "      <td>108</td>\n",
       "      <td>129</td>\n",
       "      <td>157</td>\n",
       "    </tr>\n",
       "    <tr>\n",
       "      <th>2</th>\n",
       "      <td>./images/N62.xml</td>\n",
       "      <td>289</td>\n",
       "      <td>421</td>\n",
       "      <td>188</td>\n",
       "      <td>232</td>\n",
       "    </tr>\n",
       "    <tr>\n",
       "      <th>3</th>\n",
       "      <td>./images/N89.xml</td>\n",
       "      <td>150</td>\n",
       "      <td>378</td>\n",
       "      <td>217</td>\n",
       "      <td>269</td>\n",
       "    </tr>\n",
       "    <tr>\n",
       "      <th>4</th>\n",
       "      <td>./images/N88.xml</td>\n",
       "      <td>208</td>\n",
       "      <td>370</td>\n",
       "      <td>89</td>\n",
       "      <td>173</td>\n",
       "    </tr>\n",
       "    <tr>\n",
       "      <th>...</th>\n",
       "      <td>...</td>\n",
       "      <td>...</td>\n",
       "      <td>...</td>\n",
       "      <td>...</td>\n",
       "      <td>...</td>\n",
       "    </tr>\n",
       "    <tr>\n",
       "      <th>220</th>\n",
       "      <td>./images/N53.xml</td>\n",
       "      <td>217</td>\n",
       "      <td>428</td>\n",
       "      <td>147</td>\n",
       "      <td>188</td>\n",
       "    </tr>\n",
       "    <tr>\n",
       "      <th>221</th>\n",
       "      <td>./images/N136.xml</td>\n",
       "      <td>787</td>\n",
       "      <td>910</td>\n",
       "      <td>473</td>\n",
       "      <td>513</td>\n",
       "    </tr>\n",
       "    <tr>\n",
       "      <th>222</th>\n",
       "      <td>./images/N122.xml</td>\n",
       "      <td>342</td>\n",
       "      <td>494</td>\n",
       "      <td>243</td>\n",
       "      <td>288</td>\n",
       "    </tr>\n",
       "    <tr>\n",
       "      <th>223</th>\n",
       "      <td>./images/N240.xml</td>\n",
       "      <td>164</td>\n",
       "      <td>285</td>\n",
       "      <td>99</td>\n",
       "      <td>137</td>\n",
       "    </tr>\n",
       "    <tr>\n",
       "      <th>224</th>\n",
       "      <td>./images/N2.xml</td>\n",
       "      <td>1804</td>\n",
       "      <td>2493</td>\n",
       "      <td>1734</td>\n",
       "      <td>1882</td>\n",
       "    </tr>\n",
       "  </tbody>\n",
       "</table>\n",
       "<p>225 rows × 5 columns</p>\n",
       "</div>"
      ],
      "text/plain": [
       "              filepath  xmin  xmax  ymin  ymax\n",
       "0    ./images/N107.xml   207   356   174   287\n",
       "1    ./images/N113.xml    39   108   129   157\n",
       "2     ./images/N62.xml   289   421   188   232\n",
       "3     ./images/N89.xml   150   378   217   269\n",
       "4     ./images/N88.xml   208   370    89   173\n",
       "..                 ...   ...   ...   ...   ...\n",
       "220   ./images/N53.xml   217   428   147   188\n",
       "221  ./images/N136.xml   787   910   473   513\n",
       "222  ./images/N122.xml   342   494   243   288\n",
       "223  ./images/N240.xml   164   285    99   137\n",
       "224    ./images/N2.xml  1804  2493  1734  1882\n",
       "\n",
       "[225 rows x 5 columns]"
      ]
     },
     "execution_count": 9,
     "metadata": {},
     "output_type": "execute_result"
    }
   ],
   "source": [
    "df"
   ]
  },
  {
   "cell_type": "code",
   "execution_count": 13,
   "metadata": {},
   "outputs": [],
   "source": [
    "df = df.sort_values('filepath')"
   ]
  },
  {
   "cell_type": "code",
   "execution_count": 14,
   "metadata": {},
   "outputs": [],
   "source": [
    "# aggregate labels in a csv file\n",
    "df.to_csv('image_labels.csv', index=False)"
   ]
  },
  {
   "cell_type": "code",
   "execution_count": null,
   "metadata": {},
   "outputs": [],
   "source": [
    "    "
   ]
  }
 ],
 "metadata": {
  "kernelspec": {
   "display_name": "env",
   "language": "python",
   "name": "python3"
  },
  "language_info": {
   "codemirror_mode": {
    "name": "ipython",
    "version": 3
   },
   "file_extension": ".py",
   "mimetype": "text/x-python",
   "name": "python",
   "nbconvert_exporter": "python",
   "pygments_lexer": "ipython3",
   "version": "3.12.4"
  }
 },
 "nbformat": 4,
 "nbformat_minor": 2
}
